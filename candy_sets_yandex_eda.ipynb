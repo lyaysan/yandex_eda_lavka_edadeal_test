{
 "cells": [
  {
   "cell_type": "markdown",
   "metadata": {},
   "source": [
    "#### У вас есть список конфет разных видов, вам нужно собрать одинаковые наборы для своих друзей. Какому максимальному числу друзей вы сможете собрать наборы так, чтобы раздарить все конфеты?"
   ]
  },
  {
   "cell_type": "markdown",
   "metadata": {},
   "source": [
    "Основная цель - раздать ВСЕ конфеты.\n",
    "\n",
    "Сначала считаем, сколько конфет каждого вида встречается в списке. Смотрим, на сколько одинаковых наборов можно разделить все эти конфеты. Число таких наборов равно количеству общих делителей числа конфет каждого вида в списке.\n",
    "\n",
    "Например, для списка  [A A A A A A A A A A A A B B B B B B C C C C C C] : конфет вида A - 12 штук, вида B - 6 штук, вида C - 6 штук. Его можно разбить на 1 набор, состоящий из всех конфет, на 2 набора [A A A A A A B B B C C C], на 3 набора [A A A A A A B B B C C C], и на 6 наборов [A A B C]\n",
    "\n",
    "Так как конфеты надо раздать максимально возможному количеству друзей, то берем наибольшее количество наборов ( т.е. наибольший общий делитель)"
   ]
  },
  {
   "cell_type": "code",
   "execution_count": 109,
   "metadata": {},
   "outputs": [],
   "source": [
    "import numpy as np\n",
    "\n",
    "def sets_for_friends(candy_set):\n",
    "\n",
    "    # смотрим на количество конфет каждого вида:\n",
    "    candy_types = [[i for i in np.unique(candy_input)], [candy_input.count(i) for i in np.unique(candy_input)]]\n",
    "    \n",
    "    #находим наибольший общий делитель для количеств конфет каждого вида\n",
    "    \n",
    "    #сначала выпишем списки всех делителей:\n",
    "    set1 = []\n",
    "    for a in candy_types[1] :\n",
    "        set2=set()\n",
    "        for i in range(1, a+1) :\n",
    "            if a % i == 0 :\n",
    "                set2.add(i)\n",
    "        set1.append(set2)\n",
    "    \n",
    "    #найдем их пересечение (множество общих делителей):\n",
    "    intersec = set1[0]\n",
    "    for i in range(1, np.size(candy_types[0])):\n",
    "        intersec = intersec.intersection(set1[i])\n",
    "    \n",
    "    #берем наибольший элемент из перечечения\n",
    "    return max(intersec)"
   ]
  },
  {
   "cell_type": "code",
   "execution_count": 106,
   "metadata": {},
   "outputs": [
    {
     "name": "stdout",
     "output_type": "stream",
     "text": [
      "1 2 3 1 2 3 4\n"
     ]
    }
   ],
   "source": [
    "candy_input = input().split(\" \")"
   ]
  }
 ],
 "metadata": {
  "kernelspec": {
   "display_name": "Python 3",
   "language": "python",
   "name": "python3"
  },
  "language_info": {
   "codemirror_mode": {
    "name": "ipython",
    "version": 3
   },
   "file_extension": ".py",
   "mimetype": "text/x-python",
   "name": "python",
   "nbconvert_exporter": "python",
   "pygments_lexer": "ipython3",
   "version": "3.8.5"
  }
 },
 "nbformat": 4,
 "nbformat_minor": 4
}
